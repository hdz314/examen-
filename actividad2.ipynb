{
  "cells": [
    {
      "cell_type": "markdown",
      "metadata": {
        "id": "mLckdXHJLHrM"
      },
      "source": [
        "# Selección de datos para modelización\n",
        "\n",
        "Su conjunto de datos contiene demasiadas variables como para que pueda entenderlas o incluso imprimirlas. ¿Cómo puede reducir esta abrumadora cantidad de datos a algo que pueda entender?\n",
        "\n",
        "Empezaremos por seleccionar algunas variables utilizando nuestra intuición. Cursos posteriores le mostrarán técnicas estadísticas para priorizar automáticamente las variables.\n",
        "\n",
        "Para elegir variables/columnas, necesitaremos ver una lista de todas las columnas del conjunto de datos. Eso se hace con la propiedad columns del DataFrame (la línea inferior del código de abajo)."
      ]
    },
    {
      "cell_type": "code",
      "execution_count": 15,
      "metadata": {
        "colab": {
          "base_uri": "https://localhost:8080/"
        },
        "id": "P6DMcoiyO4RC",
        "outputId": "6d31dc61-8c28-4889-92f8-ce4a0d816986"
      },
      "outputs": [
        {
          "data": {
            "text/plain": [
              "Index(['Suburb', 'Address', 'Rooms', 'Type', 'Price', 'Method', 'SellerG',\n",
              "       'Date', 'Distance', 'Postcode', 'Bedroom2', 'Bathroom', 'Car',\n",
              "       'Landsize', 'BuildingArea', 'YearBuilt', 'CouncilArea', 'Lattitude',\n",
              "       'Longtitude', 'Regionname', 'Propertycount'],\n",
              "      dtype='object')"
            ]
          },
          "execution_count": 15,
          "metadata": {},
          "output_type": "execute_result"
        }
      ],
      "source": [
        "import pandas as pd\n",
        "\n",
        "melbourne_file_path = '/content/melb_data.csv'\n",
        "melbourne_data = pd.read_csv(melbourne_file_path) \n",
        "melbourne_data.columns"
      ]
    },
    {
      "cell_type": "code",
      "execution_count": 16,
      "metadata": {
        "id": "KmvVk27APOvQ"
      },
      "outputs": [],
      "source": [
        "# Los datos de Melbourne tienen algunos valores perdidos (algunas casas para las que no se registraron algunas variables).\n",
        "# Aprenderemos a manejar los valores perdidos en un tutorial posterior.  \n",
        "# Tus datos de Iowa no tienen valores perdidos en las columnas que utilizas. \n",
        "# Así que tomaremos la opción más simple por ahora, y eliminaremos las casas de nuestros datos. \n",
        "# No te preocupes mucho por esto por ahora, aunque el código es:\n",
        "\n",
        "# dropna elimina los valores perdidos (piense en na como \"no disponible\")\n",
        "melbourne_data = melbourne_data.dropna(axis=0)"
      ]
    },
    {
      "cell_type": "markdown",
      "metadata": {
        "id": "4CiPLiJUPmk0"
      },
      "source": [
        "# Selección del objetivo de predicción\n",
        "Puede extraer una variable con anotación por puntos. Esta única columna se almacena en una Serie, que a grandes rasgos es como un DataFrame con una única columna de datos.\n",
        "\n",
        "Utilizaremos la notación de puntos para seleccionar la columna que queremos predecir, que se denomina objetivo de predicción. Por convención, el objetivo de predicción se llama y. Así que el código que necesitamos para guardar los precios de la vivienda en los datos de Melbourne es"
      ]
    },
    {
      "cell_type": "code",
      "execution_count": 17,
      "metadata": {
        "id": "hyoqSvbIPuDx"
      },
      "outputs": [],
      "source": [
        "y = melbourne_data.Price"
      ]
    },
    {
      "cell_type": "markdown",
      "metadata": {
        "id": "HRjVy3H3QKm6"
      },
      "source": [
        "# Selección de características\n",
        "Las columnas que se introducen en nuestro modelo (y que luego se utilizan para hacer predicciones) se denominan \"características\". En nuestro caso, serían las columnas utilizadas para determinar el precio de la vivienda. A veces, utilizará como características todas las columnas excepto el objetivo. Otras veces será mejor utilizar menos características.\n",
        "\n",
        "Por ahora, construiremos un modelo con sólo unas pocas características. Más adelante verá cómo iterar y comparar modelos construidos con diferentes características.\n",
        "\n",
        "Seleccionamos múltiples características proporcionando una lista de nombres de columnas entre paréntesis. Cada elemento de la lista debe ser una cadena (entre comillas).\n",
        "\n",
        "He aquí un ejemplo:"
      ]
    },
    {
      "cell_type": "code",
      "execution_count": 18,
      "metadata": {
        "id": "bgiwFXl9QXeU"
      },
      "outputs": [],
      "source": [
        "melbourne_features = ['Rooms', 'Bathroom', 'Landsize', 'Lattitude', 'Longtitude']"
      ]
    },
    {
      "cell_type": "markdown",
      "metadata": {
        "id": "bDZLmnm_QcWR"
      },
      "source": [
        "Por convención, estos datos se denominan X."
      ]
    },
    {
      "cell_type": "code",
      "execution_count": 19,
      "metadata": {
        "id": "gh-YLt8xQdpH"
      },
      "outputs": [],
      "source": [
        "X = melbourne_data[melbourne_features]"
      ]
    },
    {
      "cell_type": "markdown",
      "metadata": {
        "id": "GHsEDUX3QfD_"
      },
      "source": [
        "Repasemos rápidamente los datos que utilizaremos para predecir los precios de la vivienda utilizando el método de descripción y el método de la cabeza, que muestra las primeras filas."
      ]
    },
    {
      "cell_type": "code",
      "execution_count": 20,
      "metadata": {
        "id": "d6eTzIATQiW6"
      },
      "outputs": [],
      "source": [
        "## Imprime las primeras filas"
      ]
    },
    {
      "cell_type": "code",
      "execution_count": null,
      "metadata": {
        "colab": {
          "base_uri": "https://localhost:8080/",
          "height": 206
        },
        "id": "SEXDhSB_Qmxu",
        "outputId": "ed32a446-ec83-49ca-e46a-73b1ad497ba0"
      },
      "outputs": [
        {
          "data": {
            "text/html": [
              "\n",
              "  <div id=\"df-dbd758c6-5211-429a-94f6-85cc22621eec\">\n",
              "    <div class=\"colab-df-container\">\n",
              "      <div>\n",
              "<style scoped>\n",
              "    .dataframe tbody tr th:only-of-type {\n",
              "        vertical-align: middle;\n",
              "    }\n",
              "\n",
              "    .dataframe tbody tr th {\n",
              "        vertical-align: top;\n",
              "    }\n",
              "\n",
              "    .dataframe thead th {\n",
              "        text-align: right;\n",
              "    }\n",
              "</style>\n",
              "<table border=\"1\" class=\"dataframe\">\n",
              "  <thead>\n",
              "    <tr style=\"text-align: right;\">\n",
              "      <th></th>\n",
              "      <th>Rooms</th>\n",
              "      <th>Bathroom</th>\n",
              "      <th>Landsize</th>\n",
              "      <th>Lattitude</th>\n",
              "      <th>Longtitude</th>\n",
              "    </tr>\n",
              "  </thead>\n",
              "  <tbody>\n",
              "    <tr>\n",
              "      <th>1</th>\n",
              "      <td>2</td>\n",
              "      <td>1.0</td>\n",
              "      <td>156.0</td>\n",
              "      <td>-37.8079</td>\n",
              "      <td>144.9934</td>\n",
              "    </tr>\n",
              "    <tr>\n",
              "      <th>2</th>\n",
              "      <td>3</td>\n",
              "      <td>2.0</td>\n",
              "      <td>134.0</td>\n",
              "      <td>-37.8093</td>\n",
              "      <td>144.9944</td>\n",
              "    </tr>\n",
              "    <tr>\n",
              "      <th>4</th>\n",
              "      <td>4</td>\n",
              "      <td>1.0</td>\n",
              "      <td>120.0</td>\n",
              "      <td>-37.8072</td>\n",
              "      <td>144.9941</td>\n",
              "    </tr>\n",
              "    <tr>\n",
              "      <th>6</th>\n",
              "      <td>3</td>\n",
              "      <td>2.0</td>\n",
              "      <td>245.0</td>\n",
              "      <td>-37.8024</td>\n",
              "      <td>144.9993</td>\n",
              "    </tr>\n",
              "    <tr>\n",
              "      <th>7</th>\n",
              "      <td>2</td>\n",
              "      <td>1.0</td>\n",
              "      <td>256.0</td>\n",
              "      <td>-37.8060</td>\n",
              "      <td>144.9954</td>\n",
              "    </tr>\n",
              "  </tbody>\n",
              "</table>\n",
              "</div>\n",
              "      <button class=\"colab-df-convert\" onclick=\"convertToInteractive('df-dbd758c6-5211-429a-94f6-85cc22621eec')\"\n",
              "              title=\"Convert this dataframe to an interactive table.\"\n",
              "              style=\"display:none;\">\n",
              "        \n",
              "  <svg xmlns=\"http://www.w3.org/2000/svg\" height=\"24px\"viewBox=\"0 0 24 24\"\n",
              "       width=\"24px\">\n",
              "    <path d=\"M0 0h24v24H0V0z\" fill=\"none\"/>\n",
              "    <path d=\"M18.56 5.44l.94 2.06.94-2.06 2.06-.94-2.06-.94-.94-2.06-.94 2.06-2.06.94zm-11 1L8.5 8.5l.94-2.06 2.06-.94-2.06-.94L8.5 2.5l-.94 2.06-2.06.94zm10 10l.94 2.06.94-2.06 2.06-.94-2.06-.94-.94-2.06-.94 2.06-2.06.94z\"/><path d=\"M17.41 7.96l-1.37-1.37c-.4-.4-.92-.59-1.43-.59-.52 0-1.04.2-1.43.59L10.3 9.45l-7.72 7.72c-.78.78-.78 2.05 0 2.83L4 21.41c.39.39.9.59 1.41.59.51 0 1.02-.2 1.41-.59l7.78-7.78 2.81-2.81c.8-.78.8-2.07 0-2.86zM5.41 20L4 18.59l7.72-7.72 1.47 1.35L5.41 20z\"/>\n",
              "  </svg>\n",
              "      </button>\n",
              "      \n",
              "  <style>\n",
              "    .colab-df-container {\n",
              "      display:flex;\n",
              "      flex-wrap:wrap;\n",
              "      gap: 12px;\n",
              "    }\n",
              "\n",
              "    .colab-df-convert {\n",
              "      background-color: #E8F0FE;\n",
              "      border: none;\n",
              "      border-radius: 50%;\n",
              "      cursor: pointer;\n",
              "      display: none;\n",
              "      fill: #1967D2;\n",
              "      height: 32px;\n",
              "      padding: 0 0 0 0;\n",
              "      width: 32px;\n",
              "    }\n",
              "\n",
              "    .colab-df-convert:hover {\n",
              "      background-color: #E2EBFA;\n",
              "      box-shadow: 0px 1px 2px rgba(60, 64, 67, 0.3), 0px 1px 3px 1px rgba(60, 64, 67, 0.15);\n",
              "      fill: #174EA6;\n",
              "    }\n",
              "\n",
              "    [theme=dark] .colab-df-convert {\n",
              "      background-color: #3B4455;\n",
              "      fill: #D2E3FC;\n",
              "    }\n",
              "\n",
              "    [theme=dark] .colab-df-convert:hover {\n",
              "      background-color: #434B5C;\n",
              "      box-shadow: 0px 1px 3px 1px rgba(0, 0, 0, 0.15);\n",
              "      filter: drop-shadow(0px 1px 2px rgba(0, 0, 0, 0.3));\n",
              "      fill: #FFFFFF;\n",
              "    }\n",
              "  </style>\n",
              "\n",
              "      <script>\n",
              "        const buttonEl =\n",
              "          document.querySelector('#df-dbd758c6-5211-429a-94f6-85cc22621eec button.colab-df-convert');\n",
              "        buttonEl.style.display =\n",
              "          google.colab.kernel.accessAllowed ? 'block' : 'none';\n",
              "\n",
              "        async function convertToInteractive(key) {\n",
              "          const element = document.querySelector('#df-dbd758c6-5211-429a-94f6-85cc22621eec');\n",
              "          const dataTable =\n",
              "            await google.colab.kernel.invokeFunction('convertToInteractive',\n",
              "                                                     [key], {});\n",
              "          if (!dataTable) return;\n",
              "\n",
              "          const docLinkHtml = 'Like what you see? Visit the ' +\n",
              "            '<a target=\"_blank\" href=https://colab.research.google.com/notebooks/data_table.ipynb>data table notebook</a>'\n",
              "            + ' to learn more about interactive tables.';\n",
              "          element.innerHTML = '';\n",
              "          dataTable['output_type'] = 'display_data';\n",
              "          await google.colab.output.renderOutput(dataTable, element);\n",
              "          const docLink = document.createElement('div');\n",
              "          docLink.innerHTML = docLinkHtml;\n",
              "          element.appendChild(docLink);\n",
              "        }\n",
              "      </script>\n",
              "    </div>\n",
              "  </div>\n",
              "  "
            ],
            "text/plain": [
              "   Rooms  Bathroom  Landsize  Lattitude  Longtitude\n",
              "1      2       1.0     156.0   -37.8079    144.9934\n",
              "2      3       2.0     134.0   -37.8093    144.9944\n",
              "4      4       1.0     120.0   -37.8072    144.9941\n",
              "6      3       2.0     245.0   -37.8024    144.9993\n",
              "7      2       1.0     256.0   -37.8060    144.9954"
            ]
          },
          "execution_count": 17,
          "metadata": {},
          "output_type": "execute_result"
        }
      ],
      "source": [
        "X.head()"
      ]
    },
    {
      "cell_type": "markdown",
      "metadata": {
        "id": "if4js9f7QqMo"
      },
      "source": [
        "Comprobar visualmente los datos con estos comandos es una parte importante del trabajo de un científico de datos. A menudo encontrarás sorpresas en el conjunto de datos que merecen una inspección más detallada."
      ]
    },
    {
      "cell_type": "markdown",
      "metadata": {
        "id": "x18hNCedQ68G"
      },
      "source": [
        "# Creación del modelo\n",
        "Utilizarás la librería scikit-learn para crear tus modelos. Al codificar, esta biblioteca se escribe como sklearn, como verás en el código de ejemplo. Scikit-learn es fácilmente la biblioteca más popular para modelar los tipos de datos típicamente almacenados en DataFrames.\n",
        "\n",
        "Los pasos para construir y utilizar un modelo son:\n",
        "\n",
        "Definir: ¿Qué tipo de modelo será? ¿Un árbol de decisión? ¿Otro tipo de modelo? También se especifican otros parámetros del tipo de modelo.\n",
        "Ajustar: Capturar patrones a partir de los datos proporcionados. Este es el corazón del modelado.\n",
        "Predecir: Justo lo que parece\n",
        "Evaluar: Determinar la precisión de las predicciones del modelo.\n",
        "He aquí un ejemplo de definición de un modelo de árbol de decisión con scikit-learn y su ajuste con las características y la variable objetivo."
      ]
    },
    {
      "cell_type": "code",
      "execution_count": 21,
      "metadata": {
        "colab": {
          "base_uri": "https://localhost:8080/"
        },
        "id": "ySQyyspWRLBr",
        "outputId": "7fd6735e-d239-417a-def8-5b40c23f6a05"
      },
      "outputs": [
        {
          "data": {
            "text/plain": [
              "DecisionTreeRegressor(random_state=1)"
            ]
          },
          "execution_count": 21,
          "metadata": {},
          "output_type": "execute_result"
        }
      ],
      "source": [
        "from sklearn.tree import DecisionTreeRegressor\n",
        "\n",
        "# Define model. Specify a number for random_state to ensure same results each run\n",
        "melbourne_model = DecisionTreeRegressor(random_state=1)\n",
        "\n",
        "# Fit model\n",
        "melbourne_model.fit(X, y)"
      ]
    },
    {
      "cell_type": "markdown",
      "metadata": {
        "id": "dunrmuwJRPPU"
      },
      "source": [
        "Muchos modelos de aprendizaje automático permiten cierta aleatoriedad en el entrenamiento del modelo. Especificar un número para random_state le asegura obtener los mismos resultados en cada ejecución. Esto se considera una buena práctica. Puede utilizar cualquier número y la calidad del modelo no dependerá significativamente del valor exacto que elija.\n",
        "\n",
        "Ahora tenemos un modelo ajustado que podemos utilizar para hacer predicciones.\n",
        "\n",
        "En la práctica, querremos hacer predicciones para las nuevas viviendas que salgan al mercado y no para las viviendas de las que ya tenemos precios. Pero haremos predicciones para las primeras filas de los datos de entrenamiento para ver cómo funciona la función predecir."
      ]
    },
    {
      "cell_type": "code",
      "execution_count": 22,
      "metadata": {
        "colab": {
          "base_uri": "https://localhost:8080/"
        },
        "id": "sIy-591WRRhj",
        "outputId": "26f74811-f598-4c6d-fad7-f6d821068307"
      },
      "outputs": [
        {
          "name": "stdout",
          "output_type": "stream",
          "text": [
            "Making predictions for the following 5 houses:\n",
            "   Rooms  Bathroom  Landsize  Lattitude  Longtitude\n",
            "1      2       1.0     156.0   -37.8079    144.9934\n",
            "2      3       2.0     134.0   -37.8093    144.9944\n",
            "4      4       1.0     120.0   -37.8072    144.9941\n",
            "6      3       2.0     245.0   -37.8024    144.9993\n",
            "7      2       1.0     256.0   -37.8060    144.9954\n",
            "The predictions are\n",
            "[1035000. 1465000. 1600000. 1876000. 1636000.]\n"
          ]
        }
      ],
      "source": [
        "print(\"Making predictions for the following 5 houses:\")\n",
        "print(X.head())\n",
        "print(\"The predictions are\")\n",
        "print(melbourne_model.predict(X.head()))"
      ]
    },
    {
      "cell_type": "markdown",
      "metadata": {
        "id": "Subr7P5JRd0X"
      },
      "source": [
        "# Tu primer modelo"
      ]
    },
    {
      "cell_type": "code",
      "execution_count": 8,
      "metadata": {
        "id": "JQtV9Cz2RtRG"
      },
      "outputs": [],
      "source": [
        "import pandas as pd\n",
        "\n",
        "iowa_file_path = '/content/train.csv'\n",
        "\n",
        "home_data = pd.read_csv(iowa_file_path) "
      ]
    },
    {
      "cell_type": "markdown",
      "metadata": {
        "id": "9lWtz3zyR1Yk"
      },
      "source": [
        "## Especificar objetivo de predicción\n",
        "Seleccione la variable objetivo, que corresponde al precio de venta. Guárdela en una nueva variable llamada y. Tendrá que imprimir una lista de las columnas para encontrar el nombre de la columna que necesita."
      ]
    },
    {
      "cell_type": "code",
      "execution_count": 9,
      "metadata": {
        "colab": {
          "base_uri": "https://localhost:8080/"
        },
        "id": "9MOukRfuR6jk",
        "outputId": "bc3196da-9c5a-4fce-a8ad-a2bd0ccc7220"
      },
      "outputs": [
        {
          "data": {
            "text/plain": [
              "Index(['Id', 'MSSubClass', 'MSZoning', 'LotFrontage', 'LotArea', 'Street',\n",
              "       'Alley', 'LotShape', 'LandContour', 'Utilities', 'LotConfig',\n",
              "       'LandSlope', 'Neighborhood', 'Condition1', 'Condition2', 'BldgType',\n",
              "       'HouseStyle', 'OverallQual', 'OverallCond', 'YearBuilt', 'YearRemodAdd',\n",
              "       'RoofStyle', 'RoofMatl', 'Exterior1st', 'Exterior2nd', 'MasVnrType',\n",
              "       'MasVnrArea', 'ExterQual', 'ExterCond', 'Foundation', 'BsmtQual',\n",
              "       'BsmtCond', 'BsmtExposure', 'BsmtFinType1', 'BsmtFinSF1',\n",
              "       'BsmtFinType2', 'BsmtFinSF2', 'BsmtUnfSF', 'TotalBsmtSF', 'Heating',\n",
              "       'HeatingQC', 'CentralAir', 'Electrical', '1stFlrSF', '2ndFlrSF',\n",
              "       'LowQualFinSF', 'GrLivArea', 'BsmtFullBath', 'BsmtHalfBath', 'FullBath',\n",
              "       'HalfBath', 'BedroomAbvGr', 'KitchenAbvGr', 'KitchenQual',\n",
              "       'TotRmsAbvGrd', 'Functional', 'Fireplaces', 'FireplaceQu', 'GarageType',\n",
              "       'GarageYrBlt', 'GarageFinish', 'GarageCars', 'GarageArea', 'GarageQual',\n",
              "       'GarageCond', 'PavedDrive', 'WoodDeckSF', 'OpenPorchSF',\n",
              "       'EnclosedPorch', '3SsnPorch', 'ScreenPorch', 'PoolArea', 'PoolQC',\n",
              "       'Fence', 'MiscFeature', 'MiscVal', 'MoSold', 'YrSold', 'SaleType',\n",
              "       'SaleCondition', 'SalePrice'],\n",
              "      dtype='object')"
            ]
          },
          "execution_count": 9,
          "metadata": {},
          "output_type": "execute_result"
        }
      ],
      "source": [
        "# imprimir la lista de columnas del conjunto de datos para encontrar el nombre del objetivo de predicción\n",
        "home_data.columns"
      ]
    },
    {
      "cell_type": "code",
      "execution_count": 10,
      "metadata": {
        "id": "FqpK5Lo9R8sO"
      },
      "outputs": [],
      "source": [
        "y = home_data.SalePrice"
      ]
    },
    {
      "cell_type": "markdown",
      "metadata": {
        "id": "XT1XVrNZSB9z"
      },
      "source": [
        "## Crear X"
      ]
    },
    {
      "cell_type": "markdown",
      "metadata": {
        "id": "rNrZwgYKSNkm"
      },
      "source": [
        "Ahora creará un DataFrame llamado X que contendrá las características predictivas.\n",
        "\n",
        "Como sólo quiere algunas columnas de los datos originales, primero creará una lista con los nombres de las columnas que quiere en X.\n",
        "\n",
        "Utilizará sólo las siguientes columnas en la lista (puede copiar y pegar toda la lista para ahorrar algo de escritura, aunque todavía tendrá que añadir comillas):\n",
        "\n",
        "- LotArea\n",
        "- YearBuilt\n",
        "- 1stFlrSF\n",
        "- 2ndFlrSF\n",
        "- FullBath\n",
        "- BedroomAbvGr\n",
        "- TotRmsAbvGrd\n",
        "\n",
        "Después de crear esa lista de características, utilízala para crear el DataFrame que utilizarás para ajustar el modelo."
      ]
    },
    {
      "cell_type": "code",
      "execution_count": 11,
      "metadata": {
        "id": "nFkOufhESi0q"
      },
      "outputs": [],
      "source": [
        "# Crear la lista de características\n",
        "feature_names = ['LotArea', 'YearBuilt', '1stFlrSF', '2ndFlrSF', 'FullBath', 'BedroomAbvGr', 'TotRmsAbvGrd']\n",
        "\n",
        "# Seleccionar los datos correspondientes a las características en feature_names\n",
        "X = home_data[feature_names]"
      ]
    },
    {
      "cell_type": "markdown",
      "metadata": {
        "id": "Z1VTJVBaSsb4"
      },
      "source": [
        "# Revisar datos\n",
        "Antes de construir un modelo, echa un vistazo rápido a X para verificar que parece sensato"
      ]
    },
    {
      "cell_type": "code",
      "execution_count": 14,
      "metadata": {
        "colab": {
          "base_uri": "https://localhost:8080/"
        },
        "id": "z3VUIccGSwza",
        "outputId": "3cba6808-6fd5-46e8-ba4b-33d2c0104bc1"
      },
      "outputs": [
        {
          "name": "stdout",
          "output_type": "stream",
          "text": [
            "             LotArea    YearBuilt     1stFlrSF     2ndFlrSF     FullBath  \\\n",
            "count    1460.000000  1460.000000  1460.000000  1460.000000  1460.000000   \n",
            "mean    10516.828082  1971.267808  1162.626712   346.992466     1.565068   \n",
            "std      9981.264932    30.202904   386.587738   436.528436     0.550916   \n",
            "min      1300.000000  1872.000000   334.000000     0.000000     0.000000   \n",
            "25%      7553.500000  1954.000000   882.000000     0.000000     1.000000   \n",
            "50%      9478.500000  1973.000000  1087.000000     0.000000     2.000000   \n",
            "75%     11601.500000  2000.000000  1391.250000   728.000000     2.000000   \n",
            "max    215245.000000  2010.000000  4692.000000  2065.000000     3.000000   \n",
            "\n",
            "       BedroomAbvGr  TotRmsAbvGrd  \n",
            "count   1460.000000   1460.000000  \n",
            "mean       2.866438      6.517808  \n",
            "std        0.815778      1.625393  \n",
            "min        0.000000      2.000000  \n",
            "25%        2.000000      5.000000  \n",
            "50%        3.000000      6.000000  \n",
            "75%        3.000000      7.000000  \n",
            "max        8.000000     14.000000   \n",
            "\n"
          ]
        }
      ],
      "source": [
        "# Revisar datos\n",
        "X.head()\n",
        "# imprimir descripción o estadísticas de X\n",
        "print(X.describe(),'\\n')\n",
        "# imprimir las primeras lineas\n"
      ]
    },
    {
      "cell_type": "markdown",
      "metadata": {
        "id": "LKEVkhUSS8WS"
      },
      "source": [
        "# Especificar y ajustar el modelo\n",
        "Cree un DecisionTreeRegressor y guárdelo en iowa_model. Asegúrese de que ha realizado la importación correspondiente desde sklearn para ejecutar este comando.\n",
        "\n",
        "A continuación, ajuste el modelo que acaba de crear utilizando los datos en **X** y **y** que guardó anteriormente."
      ]
    },
    {
      "cell_type": "code",
      "execution_count": 23,
      "metadata": {
        "colab": {
          "base_uri": "https://localhost:8080/"
        },
        "id": "rZSGNhZ7TTXF",
        "outputId": "8df7f467-4275-457a-dc27-ac5407c20d9b"
      },
      "outputs": [
        {
          "data": {
            "text/plain": [
              "DecisionTreeRegressor(random_state=0)"
            ]
          },
          "execution_count": 23,
          "metadata": {},
          "output_type": "execute_result"
        }
      ],
      "source": [
        "# Importar DecisionTreeRegressor\n",
        "from sklearn.tree import DecisionTreeRegressor\n",
        "\n",
        "# Especificar el modelo. \n",
        "# Para la reproducibilidad del modelo, establecer un valor numérico para random_state al especificar el modelo.\n",
        "iowa_model = DecisionTreeRegressor(random_state=0)\n",
        "\n",
        "# Hacer Fit al modelo\n",
        "iowa_model.fit(X,y)"
      ]
    },
    {
      "cell_type": "markdown",
      "metadata": {
        "id": "x7Y55Y7AT-q2"
      },
      "source": [
        "# Hacer predicciones\n",
        "Realiza predicciones con el comando predecir del modelo utilizando X como datos. Guarda los resultados en una variable llamada predictions."
      ]
    },
    {
      "cell_type": "code",
      "execution_count": 24,
      "metadata": {
        "colab": {
          "base_uri": "https://localhost:8080/"
        },
        "id": "0rRi3arnUFLP",
        "outputId": "5f275176-5c93-4b21-a111-75a5360cf3c5"
      },
      "outputs": [
        {
          "name": "stdout",
          "output_type": "stream",
          "text": [
            "   Rooms  Bathroom  Landsize  Lattitude  Longtitude\n",
            "1      2       1.0     156.0   -37.8079    144.9934\n",
            "2      3       2.0     134.0   -37.8093    144.9944\n",
            "4      4       1.0     120.0   -37.8072    144.9941\n",
            "6      3       2.0     245.0   -37.8024    144.9993\n",
            "7      2       1.0     256.0   -37.8060    144.9954\n",
            "Predictions:\n",
            "[1035000. 1465000. 1600000. 1876000. 1636000.]\n"
          ]
        }
      ],
      "source": [
        "print(X.head())\n",
        "print('Predictions:')\n",
        "print(iowa_model.predict(X.head()))\n"
      ]
    }
  ],
  "metadata": {
    "colab": {
      "provenance": []
    },
    "kernelspec": {
      "display_name": "Python 3.10.2 64-bit",
      "language": "python",
      "name": "python3"
    },
    "language_info": {
      "name": "python",
      "version": "3.10.2"
    },
    "vscode": {
      "interpreter": {
        "hash": "680909a85cd0f96ba1c50ae49c7276dc4874e63b5fd1d1624a0b59680dc2cd74"
      }
    }
  },
  "nbformat": 4,
  "nbformat_minor": 0
}
